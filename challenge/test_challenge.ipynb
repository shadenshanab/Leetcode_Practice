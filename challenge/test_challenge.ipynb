{
 "cells": [
  {
   "cell_type": "markdown",
   "metadata": {},
   "source": [
    "## Leet code\n",
    "\n",
    "For today you will be solving some selected challenges on leetcode, please create an account if you don't have then\n",
    "Follow the links below:\n",
    "read them carefully and solve them then copy-paste your solution below in Code Block\n"
   ]
  },
  {
   "cell_type": "markdown",
   "metadata": {},
   "source": [
    "### **Question-01**:\n",
    "-----\n"
   ]
  },
  {
   "cell_type": "markdown",
   "metadata": {},
   "source": [
    "##### [Roman-To-Integer](https://leetcode.com/problems/roman-to-integer/)\n",
    "\n",
    "Solution:\n"
   ]
  },
  {
   "cell_type": "code",
   "execution_count": null,
   "metadata": {},
   "outputs": [
    {
     "ename": "",
     "evalue": "",
     "output_type": "error",
     "traceback": [
      "\u001b[1;31mRunning cells with 'Python 3.9.5 64-bit ('3.9.5')' requires ipykernel package.\n",
      "\u001b[1;31mRun the following command to install 'ipykernel' into the Python environment. \n",
      "\u001b[1;31mCommand: '/home/shaden/.pyenv/versions/3.9.5/bin/python -m pip install ipykernel -U --force-reinstall'"
     ]
    }
   ],
   "source": [
    "\n",
    "class Solution:\n",
    "    def romanToInt(self, s: str) -> int:\n",
    "        total = 0\n",
    "        roman = list(s)\n",
    "        reverse_roman = roman[::-1]\n",
    "        # numbers = {'I':1, 'V':5 , 'X': 10, 'L': 50, 'C': 100, 'D': 500, 'M': 1000}\n",
    "        for i in reverse_roman :\n",
    "            if i == 'I':\n",
    "                if total >= 5:\n",
    "                    total -=1\n",
    "                else:\n",
    "                    total +=1\n",
    "            elif i == 'V':\n",
    "                total +=5\n",
    "            elif i == 'X':\n",
    "                total += 10\n",
    "            elif i == 'L':\n",
    "                total += 50\n",
    "            elif i == 'C':\n",
    "                total += 100\n",
    "            elif i == 'D':\n",
    "                total += 500\n",
    "            elif i == 'M':\n",
    "                total += 1000\n",
    "                \n",
    "        return total"
   ]
  },
  {
   "cell_type": "markdown",
   "metadata": {},
   "source": [
    "##### testing:"
   ]
  },
  {
   "cell_type": "code",
   "execution_count": null,
   "metadata": {},
   "outputs": [
    {
     "ename": "",
     "evalue": "",
     "output_type": "error",
     "traceback": [
      "\u001b[1;31mRunning cells with 'Python 3.10.7 64-bit' requires ipykernel package.\n",
      "\u001b[1;31mRun the following command to install 'ipykernel' into the Python environment. \n",
      "\u001b[1;31mCommand: '/bin/python3.10 -m pip install ipykernel -U --user --force-reinstall'"
     ]
    }
   ],
   "source": [
    "\n",
    "assert  58  ==  romanToInt(\"LVIII\")\n",
    "assert 1994 ==  romanToInt(\"MCMXCIV\")\n",
    "assert 3    ==  romanToInt(\"III\")"
   ]
  },
  {
   "cell_type": "markdown",
   "metadata": {},
   "source": [
    "##### Big(O):"
   ]
  },
  {
   "cell_type": "markdown",
   "metadata": {},
   "source": [
    "## Time Comlexity = O(n)\n",
    "\n",
    "## Space complexity = O(n)"
   ]
  },
  {
   "cell_type": "markdown",
   "metadata": {},
   "source": [
    "### **Question-02**:\n",
    "--------"
   ]
  },
  {
   "cell_type": "markdown",
   "metadata": {},
   "source": [
    "##### [single-number](https://leetcode.com/problems/single-number/)\n",
    "\n",
    "Solution:\n"
   ]
  },
  {
   "cell_type": "code",
   "execution_count": null,
   "metadata": {},
   "outputs": [],
   "source": [
    "class Solution:\n",
    "    def singleNumber(self, nums: List[int]) -> int:\n",
    "        allNumbers={}\n",
    "    \n",
    "        for i in nums:\n",
    "            if i not in allNumbers:\n",
    "                allNumbers[i] = 1\n",
    "            else:\n",
    "                allNumbers[i] += 1 \n",
    "        for i in allNumbers.keys():\n",
    "            if allNumbers[i] == 1:\n",
    "                return i\n",
    "        \n"
   ]
  },
  {
   "cell_type": "markdown",
   "metadata": {},
   "source": [
    "##### testing:"
   ]
  },
  {
   "cell_type": "code",
   "execution_count": null,
   "metadata": {},
   "outputs": [],
   "source": [
    "\n",
    "assert 1 ==  singleNumber([2,2,1])\n",
    "assert 4 ==  singleNumber([4,1,2,1,2])\n",
    "assert 1 ==  singleNumber([1])"
   ]
  },
  {
   "cell_type": "markdown",
   "metadata": {},
   "source": [
    "##### Big(O):"
   ]
  },
  {
   "cell_type": "markdown",
   "metadata": {},
   "source": [
    "## Time Comlexity = O(n)\n",
    "\n",
    "## Space complexity = O(n)"
   ]
  },
  {
   "cell_type": "markdown",
   "metadata": {},
   "source": [
    "### **Question-03**:\n",
    "------"
   ]
  },
  {
   "cell_type": "markdown",
   "metadata": {},
   "source": [
    "##### [Move Zeroes](https://leetcode.com/problems/move-zeroes/)\n",
    "\n",
    "Solution:\n"
   ]
  },
  {
   "cell_type": "code",
   "execution_count": null,
   "metadata": {},
   "outputs": [],
   "source": [
    "class Solution:\n",
    "    def moveZeroes(self, nums: List[int]) -> None:\n",
    "        \"\"\"\n",
    "        Do not return anything, modify nums in-place instead.\n",
    "        \"\"\"\n",
    "        pointer =0\n",
    "        for i in range(len(nums)):\n",
    "            if nums[i] != 0 : #if we're not pointing at the zero\n",
    "                nums[pointer],nums[i]=nums[i],nums[pointer] #swap \n",
    "                pointer +=1 \n",
    "            \n",
    "            "
   ]
  },
  {
   "cell_type": "markdown",
   "metadata": {},
   "source": [
    "##### testing:"
   ]
  },
  {
   "cell_type": "code",
   "execution_count": null,
   "metadata": {},
   "outputs": [],
   "source": [
    "assert[1,3,12,0,0]==  moveZeroes([0,1,0,3,12])\n",
    "assert [0] ==  moveZeroes([0])\n",
    "assert [3,2,4,0,0,0] ==  moveZeroes([0,3,0,0,2,4])"
   ]
  },
  {
   "cell_type": "markdown",
   "metadata": {},
   "source": [
    "##### Big(O):"
   ]
  },
  {
   "cell_type": "markdown",
   "metadata": {},
   "source": [
    "## Time Comlexity = O(n)\n",
    "\n",
    "## Space complexity = O(1)"
   ]
  },
  {
   "cell_type": "markdown",
   "metadata": {},
   "source": [
    "### **Question-04**:\n",
    "------"
   ]
  },
  {
   "cell_type": "markdown",
   "metadata": {},
   "source": [
    "##### [longest-common-prefix](https://leetcode.com/problems/longest-common-prefix/)\n",
    "\n",
    "Solution:\n"
   ]
  },
  {
   "cell_type": "code",
   "execution_count": null,
   "metadata": {},
   "outputs": [],
   "source": [
    "class Solution:\n",
    "    def longestCommonPrefix(self, strs: List[str]) -> str:\n",
    "        prefix = '' \n",
    "        \n",
    "        for i in range(len(strs)): #loop over words in array\n",
    "            for j in strs: #loop over the letters\n",
    "                if i == len(j) or j[i] != strs[0][i]: # if we're at the end or we found no mathches\n",
    "                    return prefix #return \n",
    "            prefix += strs[0][i] #add the match to the prefix\n",
    "              \n",
    "        return prefix"
   ]
  },
  {
   "cell_type": "markdown",
   "metadata": {},
   "source": [
    "##### testing:"
   ]
  },
  {
   "cell_type": "code",
   "execution_count": 14,
   "metadata": {},
   "outputs": [],
   "source": [
    "assert\"fl\"==  longestCommonPrefix([\"flower\",\"flow\",\"flight\"])\n",
    "assert  \"\" ==  longestCommonPrefix ([\"dog\",\"racecar\",\"car\"])\n",
    "assert \"tra\" ==  longestCommonPrefix([\"transform\",\"transcribe\",\"train\"])"
   ]
  },
  {
   "cell_type": "markdown",
   "metadata": {},
   "source": [
    "##### Big(O):"
   ]
  },
  {
   "cell_type": "markdown",
   "metadata": {},
   "source": [
    "## Time Comlexity = O(n^2)\n",
    "\n",
    "## Space complexity = O(1)"
   ]
  }
 ],
 "metadata": {
  "kernelspec": {
   "display_name": "Python 3.10.7 64-bit",
   "language": "python",
   "name": "python3"
  },
  "language_info": {
   "codemirror_mode": {
    "name": "ipython",
    "version": 3
   },
   "file_extension": ".py",
   "mimetype": "text/x-python",
   "name": "python",
   "nbconvert_exporter": "python",
   "pygments_lexer": "ipython3",
   "version": "3.10.7"
  },
  "orig_nbformat": 4,
  "vscode": {
   "interpreter": {
    "hash": "97cc609b13305c559618ec78a438abc56230b9381f827f22d070313b9a1f3777"
   }
  }
 },
 "nbformat": 4,
 "nbformat_minor": 2
}
